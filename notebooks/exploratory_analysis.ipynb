{
 "cells": [
  {
   "metadata": {
    "ExecuteTime": {
     "end_time": "2024-12-20T19:49:57.908808Z",
     "start_time": "2024-12-20T19:49:06.054390Z"
    }
   },
   "cell_type": "code",
   "source": [
    "from scripts.data_processing import load_data\n",
    "from scripts.user_analysis import aggregate_user_behavior\n",
    "from scripts.exploratory_analysis import (\n",
    "    compute_basic_metrics,\n",
    "    segment_users_by_decile,\n",
    "    compute_correlation_matrix,\n",
    "    perform_pca,\n",
    "    plot_histograms,\n",
    "    plot_pca_result\n",
    ")\n",
    "from scripts.db import retrieve_data_from_database"
   ],
   "id": "70f0b19827609c3c",
   "outputs": [],
   "execution_count": 1
  },
  {
   "metadata": {
    "ExecuteTime": {
     "end_time": "2024-12-20T19:50:07.288822Z",
     "start_time": "2024-12-20T19:50:00.074995Z"
    }
   },
   "cell_type": "code",
   "source": [
    "# Load the dataset from database\n",
    "data = retrieve_data_from_database()"
   ],
   "id": "6924f1c02d6d88c1",
   "outputs": [],
   "execution_count": 2
  },
  {
   "metadata": {
    "ExecuteTime": {
     "end_time": "2024-12-20T19:50:13.361665Z",
     "start_time": "2024-12-20T19:50:12.650423Z"
    }
   },
   "cell_type": "code",
   "source": [
    "# Compute basic metrics\n",
    "basic_metrics = compute_basic_metrics(data)\n",
    "print(\"Basic Metrics:\\n\")\n",
    "basic_metrics"
   ],
   "id": "1a1b587ddf4ac3c5",
   "outputs": [
    {
     "name": "stdout",
     "output_type": "stream",
     "text": [
      "Basic Metrics:\n",
      "\n"
     ]
    },
    {
     "data": {
      "text/plain": [
       "          Bearer Id       Start ms         End ms      Dur. (ms)  \\\n",
       "count  1.494290e+05  149429.000000  149429.000000  149429.000000   \n",
       "mean   1.013900e+19     499.192453     498.728092   99711.138099   \n",
       "std    2.888995e+18     288.617624     288.112456   59058.034446   \n",
       "min    6.917538e+18       0.000000       0.000000    7142.000000   \n",
       "25%    7.349883e+18     250.000000     251.000000   57678.000000   \n",
       "50%    7.349883e+18     499.000000     500.000000   86399.000000   \n",
       "75%    1.304243e+19     749.000000     750.000000  132592.000000   \n",
       "max    1.318654e+19     999.000000     999.000000  244963.000000   \n",
       "\n",
       "               IMSI  MSISDN/Number          IMEI  Avg RTT DL (ms)  \\\n",
       "count  1.494290e+05   1.494290e+05  1.494290e+05    149429.000000   \n",
       "mean   2.082016e+14   4.188282e+10  4.847455e+13       108.110370   \n",
       "std    2.148822e+10   2.443394e+12  2.241637e+13       535.512696   \n",
       "min    2.040471e+14   3.360100e+10  4.400152e+11         0.000000   \n",
       "25%    2.082014e+14   3.365139e+10  3.546071e+13        35.000000   \n",
       "50%    2.082015e+14   3.366374e+10  3.572201e+13        54.000000   \n",
       "75%    2.082018e+14   3.368407e+10  8.611970e+13       108.110370   \n",
       "max    2.140743e+14   8.823971e+14  9.900120e+13     96923.000000   \n",
       "\n",
       "       Avg RTT UL (ms)  Avg Bearer TP DL (kbps)  ...  Youtube DL (Bytes)  \\\n",
       "count    149429.000000            149429.000000  ...        1.494290e+05   \n",
       "mean         17.675280             13309.561424  ...        1.163263e+07   \n",
       "std          76.650138             23993.316037  ...        6.711184e+06   \n",
       "min           0.000000                 0.000000  ...        5.300000e+01   \n",
       "25%           3.000000                43.000000  ...        5.831214e+06   \n",
       "50%           7.000000                63.000000  ...        1.161334e+07   \n",
       "75%          17.675280             19744.000000  ...        1.744650e+07   \n",
       "max        7120.000000            378160.000000  ...        2.325910e+07   \n",
       "\n",
       "       Youtube UL (Bytes)  Netflix DL (Bytes)  Netflix UL (Bytes)  \\\n",
       "count        1.494290e+05        1.494290e+05        1.494290e+05   \n",
       "mean         1.100966e+07        1.162616e+07        1.100101e+07   \n",
       "std          6.345228e+06        6.724581e+06        6.359518e+06   \n",
       "min          1.050000e+02        4.200000e+01        3.500000e+01   \n",
       "25%          5.518577e+06        5.778290e+06        5.474887e+06   \n",
       "50%          1.101329e+07        1.163991e+07        1.099593e+07   \n",
       "75%          1.651518e+07        1.746860e+07        1.650601e+07   \n",
       "max          2.201196e+07        2.325919e+07        2.201196e+07   \n",
       "\n",
       "       Gaming DL (Bytes)  Gaming UL (Bytes)  Other DL (Bytes)  \\\n",
       "count       1.494290e+05       1.494290e+05      1.494290e+05   \n",
       "mean        4.220523e+08       8.289436e+06      4.211370e+08   \n",
       "std         2.439682e+08       4.782014e+06      2.432049e+08   \n",
       "min         2.516000e+03       5.900000e+01      3.290000e+03   \n",
       "25%         2.105312e+08       4.130298e+06      2.102471e+08   \n",
       "50%         4.234474e+08       8.291227e+06      4.218431e+08   \n",
       "75%         6.331499e+08       1.243204e+07      6.317068e+08   \n",
       "max         8.434419e+08       1.655879e+07      8.434425e+08   \n",
       "\n",
       "       Other UL (Bytes)  Total UL (Bytes)  Total DL (Bytes)  \n",
       "count      1.494290e+05      1.494290e+05      1.494290e+05  \n",
       "mean       8.263530e+06      4.112041e+07      4.546492e+08  \n",
       "std        4.768122e+06      1.127111e+07      2.441430e+08  \n",
       "min        1.480000e+02      9.499756e+06      7.114041e+06  \n",
       "25%        4.146254e+06      3.322044e+07      2.431413e+08  \n",
       "50%        8.266894e+06      4.114314e+07      4.559038e+08  \n",
       "75%        1.238114e+07      4.903424e+07      6.656915e+08  \n",
       "max        1.655882e+07      7.275493e+07      9.029696e+08  \n",
       "\n",
       "[8 rows x 50 columns]"
      ],
      "text/html": [
       "<div>\n",
       "<style scoped>\n",
       "    .dataframe tbody tr th:only-of-type {\n",
       "        vertical-align: middle;\n",
       "    }\n",
       "\n",
       "    .dataframe tbody tr th {\n",
       "        vertical-align: top;\n",
       "    }\n",
       "\n",
       "    .dataframe thead th {\n",
       "        text-align: right;\n",
       "    }\n",
       "</style>\n",
       "<table border=\"1\" class=\"dataframe\">\n",
       "  <thead>\n",
       "    <tr style=\"text-align: right;\">\n",
       "      <th></th>\n",
       "      <th>Bearer Id</th>\n",
       "      <th>Start ms</th>\n",
       "      <th>End ms</th>\n",
       "      <th>Dur. (ms)</th>\n",
       "      <th>IMSI</th>\n",
       "      <th>MSISDN/Number</th>\n",
       "      <th>IMEI</th>\n",
       "      <th>Avg RTT DL (ms)</th>\n",
       "      <th>Avg RTT UL (ms)</th>\n",
       "      <th>Avg Bearer TP DL (kbps)</th>\n",
       "      <th>...</th>\n",
       "      <th>Youtube DL (Bytes)</th>\n",
       "      <th>Youtube UL (Bytes)</th>\n",
       "      <th>Netflix DL (Bytes)</th>\n",
       "      <th>Netflix UL (Bytes)</th>\n",
       "      <th>Gaming DL (Bytes)</th>\n",
       "      <th>Gaming UL (Bytes)</th>\n",
       "      <th>Other DL (Bytes)</th>\n",
       "      <th>Other UL (Bytes)</th>\n",
       "      <th>Total UL (Bytes)</th>\n",
       "      <th>Total DL (Bytes)</th>\n",
       "    </tr>\n",
       "  </thead>\n",
       "  <tbody>\n",
       "    <tr>\n",
       "      <th>count</th>\n",
       "      <td>1.494290e+05</td>\n",
       "      <td>149429.000000</td>\n",
       "      <td>149429.000000</td>\n",
       "      <td>149429.000000</td>\n",
       "      <td>1.494290e+05</td>\n",
       "      <td>1.494290e+05</td>\n",
       "      <td>1.494290e+05</td>\n",
       "      <td>149429.000000</td>\n",
       "      <td>149429.000000</td>\n",
       "      <td>149429.000000</td>\n",
       "      <td>...</td>\n",
       "      <td>1.494290e+05</td>\n",
       "      <td>1.494290e+05</td>\n",
       "      <td>1.494290e+05</td>\n",
       "      <td>1.494290e+05</td>\n",
       "      <td>1.494290e+05</td>\n",
       "      <td>1.494290e+05</td>\n",
       "      <td>1.494290e+05</td>\n",
       "      <td>1.494290e+05</td>\n",
       "      <td>1.494290e+05</td>\n",
       "      <td>1.494290e+05</td>\n",
       "    </tr>\n",
       "    <tr>\n",
       "      <th>mean</th>\n",
       "      <td>1.013900e+19</td>\n",
       "      <td>499.192453</td>\n",
       "      <td>498.728092</td>\n",
       "      <td>99711.138099</td>\n",
       "      <td>2.082016e+14</td>\n",
       "      <td>4.188282e+10</td>\n",
       "      <td>4.847455e+13</td>\n",
       "      <td>108.110370</td>\n",
       "      <td>17.675280</td>\n",
       "      <td>13309.561424</td>\n",
       "      <td>...</td>\n",
       "      <td>1.163263e+07</td>\n",
       "      <td>1.100966e+07</td>\n",
       "      <td>1.162616e+07</td>\n",
       "      <td>1.100101e+07</td>\n",
       "      <td>4.220523e+08</td>\n",
       "      <td>8.289436e+06</td>\n",
       "      <td>4.211370e+08</td>\n",
       "      <td>8.263530e+06</td>\n",
       "      <td>4.112041e+07</td>\n",
       "      <td>4.546492e+08</td>\n",
       "    </tr>\n",
       "    <tr>\n",
       "      <th>std</th>\n",
       "      <td>2.888995e+18</td>\n",
       "      <td>288.617624</td>\n",
       "      <td>288.112456</td>\n",
       "      <td>59058.034446</td>\n",
       "      <td>2.148822e+10</td>\n",
       "      <td>2.443394e+12</td>\n",
       "      <td>2.241637e+13</td>\n",
       "      <td>535.512696</td>\n",
       "      <td>76.650138</td>\n",
       "      <td>23993.316037</td>\n",
       "      <td>...</td>\n",
       "      <td>6.711184e+06</td>\n",
       "      <td>6.345228e+06</td>\n",
       "      <td>6.724581e+06</td>\n",
       "      <td>6.359518e+06</td>\n",
       "      <td>2.439682e+08</td>\n",
       "      <td>4.782014e+06</td>\n",
       "      <td>2.432049e+08</td>\n",
       "      <td>4.768122e+06</td>\n",
       "      <td>1.127111e+07</td>\n",
       "      <td>2.441430e+08</td>\n",
       "    </tr>\n",
       "    <tr>\n",
       "      <th>min</th>\n",
       "      <td>6.917538e+18</td>\n",
       "      <td>0.000000</td>\n",
       "      <td>0.000000</td>\n",
       "      <td>7142.000000</td>\n",
       "      <td>2.040471e+14</td>\n",
       "      <td>3.360100e+10</td>\n",
       "      <td>4.400152e+11</td>\n",
       "      <td>0.000000</td>\n",
       "      <td>0.000000</td>\n",
       "      <td>0.000000</td>\n",
       "      <td>...</td>\n",
       "      <td>5.300000e+01</td>\n",
       "      <td>1.050000e+02</td>\n",
       "      <td>4.200000e+01</td>\n",
       "      <td>3.500000e+01</td>\n",
       "      <td>2.516000e+03</td>\n",
       "      <td>5.900000e+01</td>\n",
       "      <td>3.290000e+03</td>\n",
       "      <td>1.480000e+02</td>\n",
       "      <td>9.499756e+06</td>\n",
       "      <td>7.114041e+06</td>\n",
       "    </tr>\n",
       "    <tr>\n",
       "      <th>25%</th>\n",
       "      <td>7.349883e+18</td>\n",
       "      <td>250.000000</td>\n",
       "      <td>251.000000</td>\n",
       "      <td>57678.000000</td>\n",
       "      <td>2.082014e+14</td>\n",
       "      <td>3.365139e+10</td>\n",
       "      <td>3.546071e+13</td>\n",
       "      <td>35.000000</td>\n",
       "      <td>3.000000</td>\n",
       "      <td>43.000000</td>\n",
       "      <td>...</td>\n",
       "      <td>5.831214e+06</td>\n",
       "      <td>5.518577e+06</td>\n",
       "      <td>5.778290e+06</td>\n",
       "      <td>5.474887e+06</td>\n",
       "      <td>2.105312e+08</td>\n",
       "      <td>4.130298e+06</td>\n",
       "      <td>2.102471e+08</td>\n",
       "      <td>4.146254e+06</td>\n",
       "      <td>3.322044e+07</td>\n",
       "      <td>2.431413e+08</td>\n",
       "    </tr>\n",
       "    <tr>\n",
       "      <th>50%</th>\n",
       "      <td>7.349883e+18</td>\n",
       "      <td>499.000000</td>\n",
       "      <td>500.000000</td>\n",
       "      <td>86399.000000</td>\n",
       "      <td>2.082015e+14</td>\n",
       "      <td>3.366374e+10</td>\n",
       "      <td>3.572201e+13</td>\n",
       "      <td>54.000000</td>\n",
       "      <td>7.000000</td>\n",
       "      <td>63.000000</td>\n",
       "      <td>...</td>\n",
       "      <td>1.161334e+07</td>\n",
       "      <td>1.101329e+07</td>\n",
       "      <td>1.163991e+07</td>\n",
       "      <td>1.099593e+07</td>\n",
       "      <td>4.234474e+08</td>\n",
       "      <td>8.291227e+06</td>\n",
       "      <td>4.218431e+08</td>\n",
       "      <td>8.266894e+06</td>\n",
       "      <td>4.114314e+07</td>\n",
       "      <td>4.559038e+08</td>\n",
       "    </tr>\n",
       "    <tr>\n",
       "      <th>75%</th>\n",
       "      <td>1.304243e+19</td>\n",
       "      <td>749.000000</td>\n",
       "      <td>750.000000</td>\n",
       "      <td>132592.000000</td>\n",
       "      <td>2.082018e+14</td>\n",
       "      <td>3.368407e+10</td>\n",
       "      <td>8.611970e+13</td>\n",
       "      <td>108.110370</td>\n",
       "      <td>17.675280</td>\n",
       "      <td>19744.000000</td>\n",
       "      <td>...</td>\n",
       "      <td>1.744650e+07</td>\n",
       "      <td>1.651518e+07</td>\n",
       "      <td>1.746860e+07</td>\n",
       "      <td>1.650601e+07</td>\n",
       "      <td>6.331499e+08</td>\n",
       "      <td>1.243204e+07</td>\n",
       "      <td>6.317068e+08</td>\n",
       "      <td>1.238114e+07</td>\n",
       "      <td>4.903424e+07</td>\n",
       "      <td>6.656915e+08</td>\n",
       "    </tr>\n",
       "    <tr>\n",
       "      <th>max</th>\n",
       "      <td>1.318654e+19</td>\n",
       "      <td>999.000000</td>\n",
       "      <td>999.000000</td>\n",
       "      <td>244963.000000</td>\n",
       "      <td>2.140743e+14</td>\n",
       "      <td>8.823971e+14</td>\n",
       "      <td>9.900120e+13</td>\n",
       "      <td>96923.000000</td>\n",
       "      <td>7120.000000</td>\n",
       "      <td>378160.000000</td>\n",
       "      <td>...</td>\n",
       "      <td>2.325910e+07</td>\n",
       "      <td>2.201196e+07</td>\n",
       "      <td>2.325919e+07</td>\n",
       "      <td>2.201196e+07</td>\n",
       "      <td>8.434419e+08</td>\n",
       "      <td>1.655879e+07</td>\n",
       "      <td>8.434425e+08</td>\n",
       "      <td>1.655882e+07</td>\n",
       "      <td>7.275493e+07</td>\n",
       "      <td>9.029696e+08</td>\n",
       "    </tr>\n",
       "  </tbody>\n",
       "</table>\n",
       "<p>8 rows × 50 columns</p>\n",
       "</div>"
      ]
     },
     "execution_count": 3,
     "metadata": {},
     "output_type": "execute_result"
    }
   ],
   "execution_count": 3
  },
  {
   "metadata": {
    "ExecuteTime": {
     "end_time": "2024-12-20T19:50:24.154872Z",
     "start_time": "2024-12-20T19:50:24.013269Z"
    }
   },
   "cell_type": "code",
   "source": [
    "# information about the dataset\n",
    "data.info()"
   ],
   "id": "552a127226394ce4",
   "outputs": [
    {
     "name": "stdout",
     "output_type": "stream",
     "text": [
      "<class 'pandas.core.frame.DataFrame'>\n",
      "RangeIndex: 149429 entries, 0 to 149428\n",
      "Data columns (total 55 columns):\n",
      " #   Column                                    Non-Null Count   Dtype  \n",
      "---  ------                                    --------------   -----  \n",
      " 0   Bearer Id                                 149429 non-null  float64\n",
      " 1   Start                                     149429 non-null  object \n",
      " 2   Start ms                                  149429 non-null  float64\n",
      " 3   End                                       149429 non-null  object \n",
      " 4   End ms                                    149429 non-null  float64\n",
      " 5   Dur. (ms)                                 149429 non-null  float64\n",
      " 6   IMSI                                      149429 non-null  float64\n",
      " 7   MSISDN/Number                             149429 non-null  float64\n",
      " 8   IMEI                                      149429 non-null  float64\n",
      " 9   Last Location Name                        149429 non-null  object \n",
      " 10  Avg RTT DL (ms)                           149429 non-null  float64\n",
      " 11  Avg RTT UL (ms)                           149429 non-null  float64\n",
      " 12  Avg Bearer TP DL (kbps)                   149429 non-null  float64\n",
      " 13  Avg Bearer TP UL (kbps)                   149429 non-null  float64\n",
      " 14  TCP DL Retrans. Vol (Bytes)               149429 non-null  float64\n",
      " 15  TCP UL Retrans. Vol (Bytes)               149429 non-null  float64\n",
      " 16  DL TP < 50 Kbps (%)                       149429 non-null  float64\n",
      " 17  50 Kbps < DL TP < 250 Kbps (%)            149429 non-null  float64\n",
      " 18  250 Kbps < DL TP < 1 Mbps (%)             149429 non-null  float64\n",
      " 19  DL TP > 1 Mbps (%)                        149429 non-null  float64\n",
      " 20  UL TP < 10 Kbps (%)                       149429 non-null  float64\n",
      " 21  10 Kbps < UL TP < 50 Kbps (%)             149429 non-null  float64\n",
      " 22  50 Kbps < UL TP < 300 Kbps (%)            149429 non-null  float64\n",
      " 23  UL TP > 300 Kbps (%)                      149429 non-null  float64\n",
      " 24  HTTP DL (Bytes)                           149429 non-null  float64\n",
      " 25  HTTP UL (Bytes)                           149429 non-null  float64\n",
      " 26  Activity Duration DL (ms)                 149429 non-null  float64\n",
      " 27  Activity Duration UL (ms)                 149429 non-null  float64\n",
      " 28  Dur. (ms).1                               149429 non-null  float64\n",
      " 29  Handset Manufacturer                      149429 non-null  object \n",
      " 30  Handset Type                              149429 non-null  object \n",
      " 31  Nb of sec with 125000B < Vol DL           149429 non-null  float64\n",
      " 32  Nb of sec with 1250B < Vol UL < 6250B     149429 non-null  float64\n",
      " 33  Nb of sec with 31250B < Vol DL < 125000B  149429 non-null  float64\n",
      " 34  Nb of sec with 37500B < Vol UL            149429 non-null  float64\n",
      " 35  Nb of sec with 6250B < Vol DL < 31250B    149429 non-null  float64\n",
      " 36  Nb of sec with 6250B < Vol UL < 37500B    149429 non-null  float64\n",
      " 37  Nb of sec with Vol DL < 6250B             149429 non-null  float64\n",
      " 38  Nb of sec with Vol UL < 1250B             149429 non-null  float64\n",
      " 39  Social Media DL (Bytes)                   149429 non-null  float64\n",
      " 40  Social Media UL (Bytes)                   149429 non-null  float64\n",
      " 41  Google DL (Bytes)                         149429 non-null  float64\n",
      " 42  Google UL (Bytes)                         149429 non-null  float64\n",
      " 43  Email DL (Bytes)                          149429 non-null  float64\n",
      " 44  Email UL (Bytes)                          149429 non-null  float64\n",
      " 45  Youtube DL (Bytes)                        149429 non-null  float64\n",
      " 46  Youtube UL (Bytes)                        149429 non-null  float64\n",
      " 47  Netflix DL (Bytes)                        149429 non-null  float64\n",
      " 48  Netflix UL (Bytes)                        149429 non-null  float64\n",
      " 49  Gaming DL (Bytes)                         149429 non-null  float64\n",
      " 50  Gaming UL (Bytes)                         149429 non-null  float64\n",
      " 51  Other DL (Bytes)                          149429 non-null  float64\n",
      " 52  Other UL (Bytes)                          149429 non-null  float64\n",
      " 53  Total UL (Bytes)                          149429 non-null  float64\n",
      " 54  Total DL (Bytes)                          149429 non-null  float64\n",
      "dtypes: float64(50), object(5)\n",
      "memory usage: 62.7+ MB\n"
     ]
    }
   ],
   "execution_count": 4
  },
  {
   "metadata": {
    "ExecuteTime": {
     "end_time": "2024-12-20T19:50:28.391871Z",
     "start_time": "2024-12-20T19:50:28.254627Z"
    }
   },
   "cell_type": "code",
   "source": [
    "# Aggregate user behavior\n",
    "user_behavior = aggregate_user_behavior(data)"
   ],
   "id": "5d358ed42df1ea47",
   "outputs": [],
   "execution_count": 5
  },
  {
   "metadata": {
    "ExecuteTime": {
     "end_time": "2024-12-20T19:50:30.750443Z",
     "start_time": "2024-12-20T19:50:30.634081Z"
    }
   },
   "cell_type": "code",
   "source": [
    "# Compute basic metrics\n",
    "basic_metrics = compute_basic_metrics(user_behavior)\n",
    "print(\"Basic Metrics:\\n\")\n",
    "basic_metrics"
   ],
   "id": "6da20e6672f15fc6",
   "outputs": [
    {
     "name": "stdout",
     "output_type": "stream",
     "text": [
      "Basic Metrics:\n",
      "\n"
     ]
    },
    {
     "data": {
      "text/plain": [
       "               IMSI   xDR_sessions  total_duration  total_download  \\\n",
       "count  1.072630e+05  107263.000000    1.072630e+05    1.072630e+05   \n",
       "mean   2.082016e+14       1.393109    1.389084e+05    6.333757e+08   \n",
       "std    2.535007e+10       0.805728    1.307908e+05    4.643737e+08   \n",
       "min    2.040471e+14       1.000000    7.142000e+03    8.827082e+06   \n",
       "25%    2.082010e+14       1.000000    7.041450e+04    3.148037e+08   \n",
       "50%    2.082015e+14       1.000000    1.024510e+05    5.700628e+08   \n",
       "75%    2.082018e+14       2.000000    1.727990e+05    8.070702e+08   \n",
       "max    2.140743e+14      18.000000    4.136076e+06    8.156743e+09   \n",
       "\n",
       "       total_upload  total_data_volume  \n",
       "count  1.072630e+05       1.072630e+05  \n",
       "mean   5.728520e+07       6.906609e+08  \n",
       "std    3.563946e+07       4.908649e+08  \n",
       "min    9.499756e+06       3.324901e+07  \n",
       "25%    3.639304e+07       3.584955e+08  \n",
       "50%    4.678130e+07       6.176283e+08  \n",
       "75%    6.565939e+07       8.571693e+08  \n",
       "max    7.295774e+08       8.846226e+09  "
      ],
      "text/html": [
       "<div>\n",
       "<style scoped>\n",
       "    .dataframe tbody tr th:only-of-type {\n",
       "        vertical-align: middle;\n",
       "    }\n",
       "\n",
       "    .dataframe tbody tr th {\n",
       "        vertical-align: top;\n",
       "    }\n",
       "\n",
       "    .dataframe thead th {\n",
       "        text-align: right;\n",
       "    }\n",
       "</style>\n",
       "<table border=\"1\" class=\"dataframe\">\n",
       "  <thead>\n",
       "    <tr style=\"text-align: right;\">\n",
       "      <th></th>\n",
       "      <th>IMSI</th>\n",
       "      <th>xDR_sessions</th>\n",
       "      <th>total_duration</th>\n",
       "      <th>total_download</th>\n",
       "      <th>total_upload</th>\n",
       "      <th>total_data_volume</th>\n",
       "    </tr>\n",
       "  </thead>\n",
       "  <tbody>\n",
       "    <tr>\n",
       "      <th>count</th>\n",
       "      <td>1.072630e+05</td>\n",
       "      <td>107263.000000</td>\n",
       "      <td>1.072630e+05</td>\n",
       "      <td>1.072630e+05</td>\n",
       "      <td>1.072630e+05</td>\n",
       "      <td>1.072630e+05</td>\n",
       "    </tr>\n",
       "    <tr>\n",
       "      <th>mean</th>\n",
       "      <td>2.082016e+14</td>\n",
       "      <td>1.393109</td>\n",
       "      <td>1.389084e+05</td>\n",
       "      <td>6.333757e+08</td>\n",
       "      <td>5.728520e+07</td>\n",
       "      <td>6.906609e+08</td>\n",
       "    </tr>\n",
       "    <tr>\n",
       "      <th>std</th>\n",
       "      <td>2.535007e+10</td>\n",
       "      <td>0.805728</td>\n",
       "      <td>1.307908e+05</td>\n",
       "      <td>4.643737e+08</td>\n",
       "      <td>3.563946e+07</td>\n",
       "      <td>4.908649e+08</td>\n",
       "    </tr>\n",
       "    <tr>\n",
       "      <th>min</th>\n",
       "      <td>2.040471e+14</td>\n",
       "      <td>1.000000</td>\n",
       "      <td>7.142000e+03</td>\n",
       "      <td>8.827082e+06</td>\n",
       "      <td>9.499756e+06</td>\n",
       "      <td>3.324901e+07</td>\n",
       "    </tr>\n",
       "    <tr>\n",
       "      <th>25%</th>\n",
       "      <td>2.082010e+14</td>\n",
       "      <td>1.000000</td>\n",
       "      <td>7.041450e+04</td>\n",
       "      <td>3.148037e+08</td>\n",
       "      <td>3.639304e+07</td>\n",
       "      <td>3.584955e+08</td>\n",
       "    </tr>\n",
       "    <tr>\n",
       "      <th>50%</th>\n",
       "      <td>2.082015e+14</td>\n",
       "      <td>1.000000</td>\n",
       "      <td>1.024510e+05</td>\n",
       "      <td>5.700628e+08</td>\n",
       "      <td>4.678130e+07</td>\n",
       "      <td>6.176283e+08</td>\n",
       "    </tr>\n",
       "    <tr>\n",
       "      <th>75%</th>\n",
       "      <td>2.082018e+14</td>\n",
       "      <td>2.000000</td>\n",
       "      <td>1.727990e+05</td>\n",
       "      <td>8.070702e+08</td>\n",
       "      <td>6.565939e+07</td>\n",
       "      <td>8.571693e+08</td>\n",
       "    </tr>\n",
       "    <tr>\n",
       "      <th>max</th>\n",
       "      <td>2.140743e+14</td>\n",
       "      <td>18.000000</td>\n",
       "      <td>4.136076e+06</td>\n",
       "      <td>8.156743e+09</td>\n",
       "      <td>7.295774e+08</td>\n",
       "      <td>8.846226e+09</td>\n",
       "    </tr>\n",
       "  </tbody>\n",
       "</table>\n",
       "</div>"
      ]
     },
     "execution_count": 6,
     "metadata": {},
     "output_type": "execute_result"
    }
   ],
   "execution_count": 6
  },
  {
   "metadata": {
    "ExecuteTime": {
     "end_time": "2024-12-20T19:50:35.012128Z",
     "start_time": "2024-12-20T19:50:34.804847Z"
    }
   },
   "cell_type": "code",
   "source": [
    "# Segment users into deciles\n",
    "decile_data = segment_users_by_decile(user_behavior)\n",
    "print(\"Decile Data:\\n\", decile_data)"
   ],
   "id": "1dec401c8b2a856f",
   "outputs": [
    {
     "name": "stdout",
     "output_type": "stream",
     "text": [
      "Decile Data:\n",
      "    decile  total_data_volume   avg_duration\n",
      "0       0       5.457879e+12   20006.301575\n",
      "1       1       6.105191e+12   39927.679098\n",
      "2       2       6.553979e+12   70537.277270\n",
      "3       3       6.177739e+12   86356.305066\n",
      "4       4       5.070415e+12   94140.947779\n",
      "5       5       6.451810e+12  117089.334825\n",
      "6       6       6.176124e+12  147507.306172\n",
      "7       7       7.843089e+12  174771.685158\n",
      "8       8       8.443861e+12  228508.505793\n",
      "9       9       1.580227e+13  415512.232939\n"
     ]
    }
   ],
   "execution_count": 7
  },
  {
   "metadata": {
    "ExecuteTime": {
     "end_time": "2024-12-20T19:50:39.269047Z",
     "start_time": "2024-12-20T19:50:37.659813Z"
    }
   },
   "cell_type": "code",
   "source": [
    "# Correlation analysis\n",
    "columns_to_analyze = [\n",
    "    'total_download', 'total_upload', 'total_data_volume',\n",
    "    'total_duration', 'xDR_sessions'\n",
    "]\n",
    "compute_correlation_matrix(user_behavior, columns_to_analyze)"
   ],
   "id": "8b83aa891e565388",
   "outputs": [
    {
     "data": {
      "text/plain": [
       "<Figure size 640x480 with 2 Axes>"
      ],
      "image/png": "[encoded data removed]"
     },
     "metadata": {},
     "output_type": "display_data"
    },
    {
     "data": {
      "text/plain": [
       "                   total_download  total_upload  total_data_volume  \\\n",
       "total_download           1.000000      0.726140           0.998753   \n",
       "total_upload             0.726140      1.000000           0.759557   \n",
       "total_data_volume        0.998753      0.759557           1.000000   \n",
       "total_duration           0.579733      0.682634           0.598008   \n",
       "xDR_sessions             0.783639      0.927375           0.808679   \n",
       "\n",
       "                   total_duration  xDR_sessions  \n",
       "total_download           0.579733      0.783639  \n",
       "total_upload             0.682634      0.927375  \n",
       "total_data_volume        0.598008      0.808679  \n",
       "total_duration           1.000000      0.737624  \n",
       "xDR_sessions             0.737624      1.000000  "
      ],
      "text/html": [
       "<div>\n",
       "<style scoped>\n",
       "    .dataframe tbody tr th:only-of-type {\n",
       "        vertical-align: middle;\n",
       "    }\n",
       "\n",
       "    .dataframe tbody tr th {\n",
       "        vertical-align: top;\n",
       "    }\n",
       "\n",
       "    .dataframe thead th {\n",
       "        text-align: right;\n",
       "    }\n",
       "</style>\n",
       "<table border=\"1\" class=\"dataframe\">\n",
       "  <thead>\n",
       "    <tr style=\"text-align: right;\">\n",
       "      <th></th>\n",
       "      <th>total_download</th>\n",
       "      <th>total_upload</th>\n",
       "      <th>total_data_volume</th>\n",
       "      <th>total_duration</th>\n",
       "      <th>xDR_sessions</th>\n",
       "    </tr>\n",
       "  </thead>\n",
       "  <tbody>\n",
       "    <tr>\n",
       "      <th>total_download</th>\n",
       "      <td>1.000000</td>\n",
       "      <td>0.726140</td>\n",
       "      <td>0.998753</td>\n",
       "      <td>0.579733</td>\n",
       "      <td>0.783639</td>\n",
       "    </tr>\n",
       "    <tr>\n",
       "      <th>total_upload</th>\n",
       "      <td>0.726140</td>\n",
       "      <td>1.000000</td>\n",
       "      <td>0.759557</td>\n",
       "      <td>0.682634</td>\n",
       "      <td>0.927375</td>\n",
       "    </tr>\n",
       "    <tr>\n",
       "      <th>total_data_volume</th>\n",
       "      <td>0.998753</td>\n",
       "      <td>0.759557</td>\n",
       "      <td>1.000000</td>\n",
       "      <td>0.598008</td>\n",
       "      <td>0.808679</td>\n",
       "    </tr>\n",
       "    <tr>\n",
       "      <th>total_duration</th>\n",
       "      <td>0.579733</td>\n",
       "      <td>0.682634</td>\n",
       "      <td>0.598008</td>\n",
       "      <td>1.000000</td>\n",
       "      <td>0.737624</td>\n",
       "    </tr>\n",
       "    <tr>\n",
       "      <th>xDR_sessions</th>\n",
       "      <td>0.783639</td>\n",
       "      <td>0.927375</td>\n",
       "      <td>0.808679</td>\n",
       "      <td>0.737624</td>\n",
       "      <td>1.000000</td>\n",
       "    </tr>\n",
       "  </tbody>\n",
       "</table>\n",
       "</div>"
      ]
     },
     "execution_count": 8,
     "metadata": {},
     "output_type": "execute_result"
    }
   ],
   "execution_count": 8
  },
  {
   "metadata": {
    "ExecuteTime": {
     "end_time": "2024-12-20T19:50:43.607105Z",
     "start_time": "2024-12-20T19:50:43.332486Z"
    }
   },
   "cell_type": "code",
   "source": [
    "# Perform PCA\n",
    "columns_for_pca = ['total_download', 'total_upload', 'total_data_volume']\n",
    "principal_components, explained_variance = perform_pca(user_behavior, columns_for_pca)"
   ],
   "id": "7f873eedfa1714f9",
   "outputs": [],
   "execution_count": 9
  },
  {
   "metadata": {
    "ExecuteTime": {
     "end_time": "2024-12-20T19:50:46.099780Z",
     "start_time": "2024-12-20T19:50:46.090015Z"
    }
   },
   "cell_type": "code",
   "source": "print(\"Explained Variance Ratio:\\n\", explained_variance)",
   "id": "8d5746e9f1c5da10",
   "outputs": [
    {
     "name": "stdout",
     "output_type": "stream",
     "text": [
      "Explained Variance Ratio:\n",
      " [0.99814364 0.00185636]\n"
     ]
    }
   ],
   "execution_count": 10
  },
  {
   "metadata": {
    "ExecuteTime": {
     "end_time": "2024-12-20T19:50:49.173695Z",
     "start_time": "2024-12-20T19:50:48.360060Z"
    }
   },
   "cell_type": "code",
   "source": [
    "# Graphical Uni variate Analysis\n",
    "plot_histograms(user_behavior)"
   ],
   "id": "7a2ac0c231b7eb1e",
   "outputs": [
    {
     "data": {
      "text/plain": [
       "<Figure size 640x480 with 1 Axes>"
      ],
      "image/png": "[encoded data removed]"
     },
     "metadata": {},
     "output_type": "display_data"
    }
   ],
   "execution_count": 11
  },
  {
   "metadata": {
    "ExecuteTime": {
     "end_time": "2024-12-20T19:50:53.892181Z",
     "start_time": "2024-12-20T19:50:53.207034Z"
    }
   },
   "cell_type": "code",
   "source": [
    "# Graphical bi variate Analysis\n",
    "plot_pca_result(principal_components)"
   ],
   "id": "6937b98b7ad1686b",
   "outputs": [
    {
     "data": {
      "text/plain": [
       "<Figure size 640x480 with 1 Axes>"
      ],
      "image/png": "[encoded data removed]"
     },
     "metadata": {},
     "output_type": "display_data"
    }
   ],
   "execution_count": 12
  }
 ],
 "metadata": {
  "kernelspec": {
   "display_name": "Python 3",
   "language": "python",
   "name": "python3"
  },
  "language_info": {
   "codemirror_mode": {
    "name": "ipython",
    "version": 2
   },
   "file_extension": ".py",
   "mimetype": "text/x-python",
   "name": "python",
   "nbconvert_exporter": "python",
   "pygments_lexer": "ipython2",
   "version": "2.7.6"
  }
 },
 "nbformat": 4,
 "nbformat_minor": 5
}
