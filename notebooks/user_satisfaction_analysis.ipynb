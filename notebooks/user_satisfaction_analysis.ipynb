{
 "cells": [
  {
   "cell_type": "code",
   "execution_count": null,
   "id": "ddf50a4649d11eb8",
   "metadata": {},
   "outputs": [],
   "source": [
    "from src.user_satisfaction_analysis import (\n",
    "    calculate_satisfaction,\n",
    "    predict_satisfaction,\n",
    "    assign_engagement_score,\n",
    "    assign_experience_score,\n",
    ")\n",
    "from src.db.db import retrieve_data_from_database, export_to_mysql\n",
    "from src.data_clustering import apply_kmeans_clustering"
   ]
  },
  {
   "cell_type": "code",
   "execution_count": null,
   "id": "d632804268afc0cb",
   "metadata": {},
   "outputs": [],
   "source": [
    "from sklearn.preprocessing import MinMaxScaler\n",
    "from sklearn.cluster import KMeans"
   ]
  },
  {
   "cell_type": "code",
   "execution_count": null,
   "id": "705c5aa5e95d400a",
   "metadata": {},
   "outputs": [],
   "source": [
    "# Load data from the database\n",
    "df = retrieve_data_from_database()"
   ]
  },
  {
   "cell_type": "code",
   "execution_count": null,
   "id": "78449fbc56163e3b",
   "metadata": {},
   "outputs": [],
   "source": [
    "# Normalize features\n",
    "engagement_features = [\n",
    "    \"session_frequency\",\n",
    "    \"session_duration\",\n",
    "    \"total_traffic\",\n",
    "]\n",
    "experience_features = [\n",
    "    \"Avg RTT DL (ms)\",\n",
    "    \"Avg RTT UL (ms)\",\n",
    "    \"Avg Bearer TP DL (kbps)\",\n",
    "    \"Avg Bearer TP UL (kbps)\",\n",
    "    \"TCP DL Retrans. Vol (Bytes)\",\n",
    "    \"TCP UL Retrans. Vol (Bytes)\",\n",
    "]"
   ]
  },
  {
   "cell_type": "code",
   "execution_count": null,
   "id": "f45d38e645815012",
   "metadata": {},
   "outputs": [],
   "source": [
    "scaler = MinMaxScaler()\n",
    "df[engagement_features] = scaler.fit_transform(df[engagement_features])\n",
    "df[experience_features] = scaler.fit_transform(df[experience_features])"
   ]
  },
  {
   "cell_type": "code",
   "execution_count": null,
   "id": "7f356db56c1fd2f3",
   "metadata": {},
   "outputs": [],
   "source": [
    "# Engagement Clustering\n",
    "kmeans_engagement = KMeans(n_clusters=3, random_state=42)\n",
    "df['engagement_cluster'] = kmeans_engagement.fit_predict(df[engagement_features])\n",
    "engagement_centers = kmeans_engagement.cluster_centers_"
   ]
  },
  {
   "cell_type": "code",
   "execution_count": null,
   "id": "16a299f4842e39a0",
   "metadata": {},
   "outputs": [],
   "source": [
    "# Assign engagement score\n",
    "df = assign_engagement_score(df, engagement_features, engagement_centers)"
   ]
  },
  {
   "cell_type": "code",
   "execution_count": null,
   "id": "2ece6e7ccccb6d5c",
   "metadata": {},
   "outputs": [],
   "source": [
    "# Experience Clustering\n",
    "kmeans_experience = KMeans(n_clusters=3, random_state=42)\n",
    "df['experience_cluster'] = kmeans_experience.fit_predict(df[experience_features])\n",
    "experience_centers = kmeans_experience.cluster_centers_"
   ]
  },
  {
   "cell_type": "code",
   "execution_count": null,
   "id": "55ec071ca88f5041",
   "metadata": {},
   "outputs": [],
   "source": [
    "# Assign experience score\n",
    "df = assign_experience_score(df, experience_features, experience_centers)"
   ]
  },
  {
   "cell_type": "code",
   "execution_count": null,
   "id": "29b74ea1163dfcce",
   "metadata": {},
   "outputs": [],
   "source": [
    "# Calculate satisfaction\n",
    "df = calculate_satisfaction(df)"
   ]
  },
  {
   "cell_type": "code",
   "execution_count": null,
   "id": "d0f3133d0f67a9da",
   "metadata": {},
   "outputs": [],
   "source": [
    "# Report top 10 satisfied customers\n",
    "top_10_satisfied = df.nlargest(10, 'satisfaction_score')[['IMSI', 'satisfaction_score']]\n",
    "print(\"Top 10 Satisfied Customers:\")\n",
    "print(top_10_satisfied)"
   ]
  },
  {
   "cell_type": "code",
   "execution_count": null,
   "id": "735a82e041c4bc6c",
   "metadata": {},
   "outputs": [],
   "source": [
    "# Predict satisfaction\n",
    "model = predict_satisfaction(df, engagement_features + experience_features)\n",
    "print(\"Regression model coefficients:\", model.coef_)"
   ]
  },
  {
   "cell_type": "code",
   "execution_count": null,
   "id": "8398f77b1c5e5238",
   "metadata": {},
   "outputs": [],
   "source": [
    "# Cluster engagement and experience\n",
    "df, kmeans_final = apply_kmeans_clustering(df, n_clusters=2, columns=['engagement_score', 'experience_score'])"
   ]
  },
  {
   "cell_type": "code",
   "execution_count": null,
   "id": "75af105238d9e963",
   "metadata": {},
   "outputs": [],
   "source": [
    "# Aggregate satisfaction and experience scores per cluster\n",
    "cluster_aggregates = df.groupby('cluster')[['satisfaction_score', 'experience_score']].mean()\n",
    "print(\"Cluster Aggregates:\")\n",
    "print(cluster_aggregates)"
   ]
  },
  {
   "cell_type": "code",
   "execution_count": null,
   "id": "1d15ccc29a5285a7",
   "metadata": {},
   "outputs": [],
   "source": [
    "# Export to MySQL\n",
    "export_to_mysql(df[['IMSI', 'engagement_score', 'experience_score', 'satisfaction_score']], \"telecom_db\", \"satisfaction_scores\")\n"
   ]
  }
 ],
 "metadata": {
  "language_info": {
   "name": "python"
  }
 },
 "nbformat": 5,
 "nbformat_minor": 9
}
