{
 "cells": [
  {
   "metadata": {
    "ExecuteTime": {
     "end_time": "2024-12-20T13:37:23.334183Z",
     "start_time": "2024-12-20T13:37:22.441260Z"
    }
   },
   "cell_type": "code",
   "source": [
    "from scripts.data_processing import load_data, handle_missing_values, handle_outliers, remove_missing_values\n",
    "from scripts.user_analysis import get_top_handsets, get_top_manufacturers, get_top_handsets_per_manufacturer"
   ],
   "id": "491bef8095a60eb7",
   "outputs": [],
   "execution_count": 1
  },
  {
   "metadata": {
    "ExecuteTime": {
     "end_time": "2024-12-20T13:37:27.066894Z",
     "start_time": "2024-12-20T13:37:24.557024Z"
    }
   },
   "cell_type": "code",
   "source": [
    "# Load the dataset\n",
    "data = load_data('../src/data/telecom_dataset.csv')"
   ],
   "id": "643f03fc26742a52",
   "outputs": [],
   "execution_count": 2
  },
  {
   "metadata": {
    "ExecuteTime": {
     "end_time": "2024-12-20T13:37:28.462283Z",
     "start_time": "2024-12-20T13:37:28.151940Z"
    }
   },
   "cell_type": "code",
   "source": [
    "# info about the dataset\n",
    "data.info()"
   ],
   "id": "f9ad4ac0c9934115",
   "outputs": [
    {
     "name": "stdout",
     "output_type": "stream",
     "text": [
      "<class 'pandas.core.frame.DataFrame'>\n",
      "RangeIndex: 150001 entries, 0 to 150000\n",
      "Data columns (total 55 columns):\n",
      " #   Column                                    Non-Null Count   Dtype  \n",
      "---  ------                                    --------------   -----  \n",
      " 0   Bearer Id                                 149010 non-null  float64\n",
      " 1   Start                                     150000 non-null  object \n",
      " 2   Start ms                                  150000 non-null  float64\n",
      " 3   End                                       150000 non-null  object \n",
      " 4   End ms                                    150000 non-null  float64\n",
      " 5   Dur. (ms)                                 150000 non-null  float64\n",
      " 6   IMSI                                      149431 non-null  float64\n",
      " 7   MSISDN/Number                             148935 non-null  float64\n",
      " 8   IMEI                                      149429 non-null  float64\n",
      " 9   Last Location Name                        148848 non-null  object \n",
      " 10  Avg RTT DL (ms)                           122172 non-null  float64\n",
      " 11  Avg RTT UL (ms)                           122189 non-null  float64\n",
      " 12  Avg Bearer TP DL (kbps)                   150000 non-null  float64\n",
      " 13  Avg Bearer TP UL (kbps)                   150000 non-null  float64\n",
      " 14  TCP DL Retrans. Vol (Bytes)               61855 non-null   float64\n",
      " 15  TCP UL Retrans. Vol (Bytes)               53352 non-null   float64\n",
      " 16  DL TP < 50 Kbps (%)                       149247 non-null  float64\n",
      " 17  50 Kbps < DL TP < 250 Kbps (%)            149247 non-null  float64\n",
      " 18  250 Kbps < DL TP < 1 Mbps (%)             149247 non-null  float64\n",
      " 19  DL TP > 1 Mbps (%)                        149247 non-null  float64\n",
      " 20  UL TP < 10 Kbps (%)                       149209 non-null  float64\n",
      " 21  10 Kbps < UL TP < 50 Kbps (%)             149209 non-null  float64\n",
      " 22  50 Kbps < UL TP < 300 Kbps (%)            149209 non-null  float64\n",
      " 23  UL TP > 300 Kbps (%)                      149209 non-null  float64\n",
      " 24  HTTP DL (Bytes)                           68527 non-null   float64\n",
      " 25  HTTP UL (Bytes)                           68191 non-null   float64\n",
      " 26  Activity Duration DL (ms)                 150000 non-null  float64\n",
      " 27  Activity Duration UL (ms)                 150000 non-null  float64\n",
      " 28  Dur. (ms).1                               150000 non-null  float64\n",
      " 29  Handset Manufacturer                      149429 non-null  object \n",
      " 30  Handset Type                              149429 non-null  object \n",
      " 31  Nb of sec with 125000B < Vol DL           52463 non-null   float64\n",
      " 32  Nb of sec with 1250B < Vol UL < 6250B     57107 non-null   float64\n",
      " 33  Nb of sec with 31250B < Vol DL < 125000B  56415 non-null   float64\n",
      " 34  Nb of sec with 37500B < Vol UL            19747 non-null   float64\n",
      " 35  Nb of sec with 6250B < Vol DL < 31250B    61684 non-null   float64\n",
      " 36  Nb of sec with 6250B < Vol UL < 37500B    38158 non-null   float64\n",
      " 37  Nb of sec with Vol DL < 6250B             149246 non-null  float64\n",
      " 38  Nb of sec with Vol UL < 1250B             149208 non-null  float64\n",
      " 39  Social Media DL (Bytes)                   150001 non-null  float64\n",
      " 40  Social Media UL (Bytes)                   150001 non-null  float64\n",
      " 41  Google DL (Bytes)                         150001 non-null  float64\n",
      " 42  Google UL (Bytes)                         150001 non-null  float64\n",
      " 43  Email DL (Bytes)                          150001 non-null  float64\n",
      " 44  Email UL (Bytes)                          150001 non-null  float64\n",
      " 45  Youtube DL (Bytes)                        150001 non-null  float64\n",
      " 46  Youtube UL (Bytes)                        150001 non-null  float64\n",
      " 47  Netflix DL (Bytes)                        150001 non-null  float64\n",
      " 48  Netflix UL (Bytes)                        150001 non-null  float64\n",
      " 49  Gaming DL (Bytes)                         150001 non-null  float64\n",
      " 50  Gaming UL (Bytes)                         150001 non-null  float64\n",
      " 51  Other DL (Bytes)                          150001 non-null  float64\n",
      " 52  Other UL (Bytes)                          150001 non-null  float64\n",
      " 53  Total UL (Bytes)                          150000 non-null  float64\n",
      " 54  Total DL (Bytes)                          150000 non-null  float64\n",
      "dtypes: float64(50), object(5)\n",
      "memory usage: 62.9+ MB\n"
     ]
    }
   ],
   "execution_count": 3
  },
  {
   "metadata": {
    "ExecuteTime": {
     "end_time": "2024-12-20T13:37:31.491456Z",
     "start_time": "2024-12-20T13:37:31.236223Z"
    }
   },
   "cell_type": "code",
   "source": [
    "# remove rows containing null values in your data based on given column\n",
    "data = remove_missing_values(data, columns=['Handset Manufacturer', 'Handset Type'])"
   ],
   "id": "24984cdeb4e48264",
   "outputs": [],
   "execution_count": 4
  },
  {
   "metadata": {
    "ExecuteTime": {
     "end_time": "2024-12-20T13:37:34.166793Z",
     "start_time": "2024-12-20T13:37:33.461916Z"
    }
   },
   "cell_type": "code",
   "source": [
    "# Handle missing values\n",
    "data = handle_missing_values(data)"
   ],
   "id": "60c4639759aa71f7",
   "outputs": [],
   "execution_count": 5
  },
  {
   "metadata": {
    "ExecuteTime": {
     "end_time": "2024-12-20T13:37:35.792959Z",
     "start_time": "2024-12-20T13:37:35.416852Z"
    }
   },
   "cell_type": "code",
   "source": [
    "# info after the handling missing value\n",
    "data.info()"
   ],
   "id": "bb93b83f0caba85",
   "outputs": [
    {
     "name": "stdout",
     "output_type": "stream",
     "text": [
      "<class 'pandas.core.frame.DataFrame'>\n",
      "Index: 149429 entries, 0 to 149999\n",
      "Data columns (total 55 columns):\n",
      " #   Column                                    Non-Null Count   Dtype  \n",
      "---  ------                                    --------------   -----  \n",
      " 0   Bearer Id                                 149429 non-null  float64\n",
      " 1   Start                                     149429 non-null  object \n",
      " 2   Start ms                                  149429 non-null  float64\n",
      " 3   End                                       149429 non-null  object \n",
      " 4   End ms                                    149429 non-null  float64\n",
      " 5   Dur. (ms)                                 149429 non-null  float64\n",
      " 6   IMSI                                      149429 non-null  float64\n",
      " 7   MSISDN/Number                             149429 non-null  float64\n",
      " 8   IMEI                                      149429 non-null  float64\n",
      " 9   Last Location Name                        148837 non-null  object \n",
      " 10  Avg RTT DL (ms)                           149429 non-null  float64\n",
      " 11  Avg RTT UL (ms)                           149429 non-null  float64\n",
      " 12  Avg Bearer TP DL (kbps)                   149429 non-null  float64\n",
      " 13  Avg Bearer TP UL (kbps)                   149429 non-null  float64\n",
      " 14  TCP DL Retrans. Vol (Bytes)               149429 non-null  float64\n",
      " 15  TCP UL Retrans. Vol (Bytes)               149429 non-null  float64\n",
      " 16  DL TP < 50 Kbps (%)                       149429 non-null  float64\n",
      " 17  50 Kbps < DL TP < 250 Kbps (%)            149429 non-null  float64\n",
      " 18  250 Kbps < DL TP < 1 Mbps (%)             149429 non-null  float64\n",
      " 19  DL TP > 1 Mbps (%)                        149429 non-null  float64\n",
      " 20  UL TP < 10 Kbps (%)                       149429 non-null  float64\n",
      " 21  10 Kbps < UL TP < 50 Kbps (%)             149429 non-null  float64\n",
      " 22  50 Kbps < UL TP < 300 Kbps (%)            149429 non-null  float64\n",
      " 23  UL TP > 300 Kbps (%)                      149429 non-null  float64\n",
      " 24  HTTP DL (Bytes)                           149429 non-null  float64\n",
      " 25  HTTP UL (Bytes)                           149429 non-null  float64\n",
      " 26  Activity Duration DL (ms)                 149429 non-null  float64\n",
      " 27  Activity Duration UL (ms)                 149429 non-null  float64\n",
      " 28  Dur. (ms).1                               149429 non-null  float64\n",
      " 29  Handset Manufacturer                      149429 non-null  object \n",
      " 30  Handset Type                              149429 non-null  object \n",
      " 31  Nb of sec with 125000B < Vol DL           149429 non-null  float64\n",
      " 32  Nb of sec with 1250B < Vol UL < 6250B     149429 non-null  float64\n",
      " 33  Nb of sec with 31250B < Vol DL < 125000B  149429 non-null  float64\n",
      " 34  Nb of sec with 37500B < Vol UL            149429 non-null  float64\n",
      " 35  Nb of sec with 6250B < Vol DL < 31250B    149429 non-null  float64\n",
      " 36  Nb of sec with 6250B < Vol UL < 37500B    149429 non-null  float64\n",
      " 37  Nb of sec with Vol DL < 6250B             149429 non-null  float64\n",
      " 38  Nb of sec with Vol UL < 1250B             149429 non-null  float64\n",
      " 39  Social Media DL (Bytes)                   149429 non-null  float64\n",
      " 40  Social Media UL (Bytes)                   149429 non-null  float64\n",
      " 41  Google DL (Bytes)                         149429 non-null  float64\n",
      " 42  Google UL (Bytes)                         149429 non-null  float64\n",
      " 43  Email DL (Bytes)                          149429 non-null  float64\n",
      " 44  Email UL (Bytes)                          149429 non-null  float64\n",
      " 45  Youtube DL (Bytes)                        149429 non-null  float64\n",
      " 46  Youtube UL (Bytes)                        149429 non-null  float64\n",
      " 47  Netflix DL (Bytes)                        149429 non-null  float64\n",
      " 48  Netflix UL (Bytes)                        149429 non-null  float64\n",
      " 49  Gaming DL (Bytes)                         149429 non-null  float64\n",
      " 50  Gaming UL (Bytes)                         149429 non-null  float64\n",
      " 51  Other DL (Bytes)                          149429 non-null  float64\n",
      " 52  Other UL (Bytes)                          149429 non-null  float64\n",
      " 53  Total UL (Bytes)                          149429 non-null  float64\n",
      " 54  Total DL (Bytes)                          149429 non-null  float64\n",
      "dtypes: float64(50), object(5)\n",
      "memory usage: 63.8+ MB\n"
     ]
    }
   ],
   "execution_count": 6
  },
  {
   "metadata": {
    "ExecuteTime": {
     "end_time": "2024-12-20T13:37:38.927749Z",
     "start_time": "2024-12-20T13:37:38.712344Z"
    }
   },
   "cell_type": "code",
   "source": [
    "# handling outliers\n",
    "columns_to_check = ['Dur. (ms)', 'Total DL (Bytes)', 'Total UL (Bytes)']\n",
    "data = handle_outliers(data, columns_to_check)"
   ],
   "id": "594c9081f7dfa4fb",
   "outputs": [],
   "execution_count": 7
  },
  {
   "metadata": {
    "ExecuteTime": {
     "end_time": "2024-12-20T13:37:43.790676Z",
     "start_time": "2024-12-20T13:37:43.628280Z"
    }
   },
   "cell_type": "code",
   "source": [
    "# Identify the top 10 handsets\n",
    "top_handsets = get_top_handsets(data)\n",
    "print(\"Top 10 Handsets:\\n\")\n",
    "top_handsets"
   ],
   "id": "8a645178b329e43d",
   "outputs": [
    {
     "name": "stdout",
     "output_type": "stream",
     "text": [
      "Top 10 Handsets:\n",
      "\n"
     ]
    },
    {
     "data": {
      "text/plain": [
       "Handset Type\n",
       "Huawei B528S-23A                19752\n",
       "Apple iPhone 6S (A1688)          9419\n",
       "Apple iPhone 6 (A1586)           9023\n",
       "undefined                        8987\n",
       "Apple iPhone 7 (A1778)           6326\n",
       "Apple iPhone Se (A1723)          5187\n",
       "Apple iPhone 8 (A1905)           4993\n",
       "Apple iPhone Xr (A2105)          4568\n",
       "Samsung Galaxy S8 (Sm-G950F)     4520\n",
       "Apple iPhone X (A1901)           3813\n",
       "Name: count, dtype: int64"
      ]
     },
     "execution_count": 8,
     "metadata": {},
     "output_type": "execute_result"
    }
   ],
   "execution_count": 8
  },
  {
   "metadata": {
    "ExecuteTime": {
     "end_time": "2024-12-20T13:37:52.807365Z",
     "start_time": "2024-12-20T13:37:52.710Z"
    }
   },
   "cell_type": "code",
   "source": [
    "# Identify the top 3 handset manufacturers\n",
    "top_manufacturers = get_top_manufacturers(data)\n",
    "print(\"Top 3 Handset Manufacturers:\\n\")\n",
    "top_manufacturers"
   ],
   "id": "f4f8442d0c287812",
   "outputs": [
    {
     "name": "stdout",
     "output_type": "stream",
     "text": [
      "Top 3 Handset Manufacturers:\n",
      "\n"
     ]
    },
    {
     "data": {
      "text/plain": [
       "Handset Manufacturer\n",
       "Apple      59565\n",
       "Samsung    40839\n",
       "Huawei     34423\n",
       "Name: count, dtype: int64"
      ]
     },
     "execution_count": 9,
     "metadata": {},
     "output_type": "execute_result"
    }
   ],
   "execution_count": 9
  },
  {
   "metadata": {
    "ExecuteTime": {
     "end_time": "2024-12-20T13:38:59.925132Z",
     "start_time": "2024-12-20T13:38:59.438830Z"
    }
   },
   "cell_type": "code",
   "source": [
    "# Identify the top 5 handsets per top manufacturer\n",
    "top_handsets_per_manufacturer = get_top_handsets_per_manufacturer(data, top_manufacturers.index)\n",
    "print(\"Top 5 Handsets Per Manufacturer:\\n\",top_handsets_per_manufacturer)\n"
   ],
   "id": "905a7233a8f9bd8e",
   "outputs": [
    {
     "name": "stdout",
     "output_type": "stream",
     "text": [
      "Top 5 Handsets Per Manufacturer:\n",
      "    Manufacturer                         Handset  Count\n",
      "0         Apple         Apple iPhone 6S (A1688)   9419\n",
      "1         Apple          Apple iPhone 6 (A1586)   9023\n",
      "2         Apple          Apple iPhone 7 (A1778)   6326\n",
      "3         Apple         Apple iPhone Se (A1723)   5187\n",
      "4         Apple          Apple iPhone 8 (A1905)   4993\n",
      "5       Samsung    Samsung Galaxy S8 (Sm-G950F)   4520\n",
      "6       Samsung      Samsung Galaxy A5 Sm-A520F   3724\n",
      "7       Samsung     Samsung Galaxy J5 (Sm-J530)   3696\n",
      "8       Samsung     Samsung Galaxy J3 (Sm-J330)   3484\n",
      "9       Samsung    Samsung Galaxy S7 (Sm-G930X)   3199\n",
      "10       Huawei                Huawei B528S-23A  19752\n",
      "11       Huawei                    Huawei E5180   2079\n",
      "12       Huawei  Huawei P20 Lite Huawei Nova 3E   2021\n",
      "13       Huawei                      Huawei P20   1480\n",
      "14       Huawei                  Huawei Y6 2018    997\n"
     ]
    }
   ],
   "execution_count": 11
  },
  {
   "metadata": {},
   "cell_type": "code",
   "outputs": [],
   "execution_count": null,
   "source": "",
   "id": "57cb5200f546ae0c"
  }
 ],
 "metadata": {
  "kernelspec": {
   "display_name": "Python 3",
   "language": "python",
   "name": "python3"
  },
  "language_info": {
   "codemirror_mode": {
    "name": "ipython",
    "version": 2
   },
   "file_extension": ".py",
   "mimetype": "text/x-python",
   "name": "python",
   "nbconvert_exporter": "python",
   "pygments_lexer": "ipython2",
   "version": "2.7.6"
  }
 },
 "nbformat": 4,
 "nbformat_minor": 5
}
